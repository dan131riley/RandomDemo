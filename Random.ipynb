{
 "cells": [
  {
   "cell_type": "code",
   "execution_count": null,
   "metadata": {},
   "outputs": [],
   "source": [
    "import numpy as np\n",
    "import matplotlib.pyplot as plt\n",
    "\n",
    "def drawpi (points = 1000) :\n",
    "    r = 1.0\n",
    "    incircle = 0\n",
    "\n",
    "    x = np.random.random(points)\n",
    "    y = np.random.random(points)\n",
    "    c = np.empty(points)\n",
    "\n",
    "    for i in range(points) :\n",
    "        if x[i]**2 + y[i]**2 <= r**2 :\n",
    "            c[i] = 1.0\n",
    "            incircle += 1\n",
    "        else :\n",
    "            c[i] = 2.0\n",
    "\n",
    "    with plt.xkcd():\n",
    "        plt.figure(figsize=(6,6))\n",
    "        plt.scatter(x, y, c=c, s=10)\n",
    "        plt.show()\n",
    "\n",
    "    return 4*(incircle/points)    "
   ]
  },
  {
   "cell_type": "code",
   "execution_count": null,
   "metadata": {},
   "outputs": [],
   "source": [
    "drawpi()"
   ]
  },
  {
   "cell_type": "code",
   "execution_count": null,
   "metadata": {},
   "outputs": [],
   "source": [
    "def lcg_rand (kMultiplier = 1366, kAddend = 150889, kPmod = 714025):\n",
    "\n",
    "    lcg_rand.random_last = (kMultiplier * lcg_rand.random_last + kAddend) % kPmod\n",
    "    return lcg_rand.random_last/kPmod\n",
    "\n",
    "# initialize the seed\n",
    "lcg_rand.random_last = 0"
   ]
  },
  {
   "cell_type": "code",
   "execution_count": null,
   "metadata": {},
   "outputs": [],
   "source": [
    "lcg_rand()"
   ]
  },
  {
   "cell_type": "code",
   "execution_count": null,
   "metadata": {},
   "outputs": [],
   "source": [
    "import numpy as np\n",
    "\n",
    "def lcg_randv (n, kMultiplier = 1366, kAddend = 150889, kPmod = 714025):\n",
    "    v = np.empty(n)\n",
    "    for i in range(n):\n",
    "        v[i] = lcg_rand(kMultiplier, kAddend, kPmod)\n",
    "\n",
    "    return v\n",
    "\n",
    "def lcg_randint (high, size=1, kMultiplier = 1366, kAddend = 150889, kPmod = 714025):\n",
    "    v = high*lcg_randv(size, kMultiplier, kAddend, kPmod)\n",
    "    return np.trunc(v)"
   ]
  },
  {
   "cell_type": "code",
   "execution_count": null,
   "metadata": {},
   "outputs": [],
   "source": [
    "lcg_randint(10, size=10)"
   ]
  },
  {
   "cell_type": "code",
   "execution_count": null,
   "metadata": {},
   "outputs": [],
   "source": [
    "def calcpi (num_trials = 10000, kMultiplier = 1366, kAddend = 150889, kPmod = 714025):\n",
    "    r = 1.0\n",
    "    incircle = 0\n",
    "\n",
    "    for i in range(num_trials) :\n",
    "        x = lcg_rand(kMultiplier, kAddend, kPmod)\n",
    "        y = lcg_rand(kMultiplier, kAddend, kPmod)\n",
    "        if x*x + y*y <= r*r :\n",
    "            incircle += 1\n",
    "    \n",
    "    return 4*(incircle/num_trials)    "
   ]
  },
  {
   "cell_type": "code",
   "execution_count": null,
   "metadata": {},
   "outputs": [],
   "source": [
    "calcpi()"
   ]
  },
  {
   "cell_type": "code",
   "execution_count": null,
   "metadata": {},
   "outputs": [],
   "source": [
    "import math\n",
    "\n",
    "lcg_rand.random_last = 0\n",
    "\n",
    "for decade in range(8) :\n",
    "    trials = 10**decade\n",
    "    pi = calcpi(trials)\n",
    "    print(f'{trials:8d} trials pi = {pi:.5f} deviation {abs(pi-math.pi):.5f}')"
   ]
  },
  {
   "cell_type": "code",
   "execution_count": null,
   "metadata": {},
   "outputs": [],
   "source": [
    "import math\n",
    "\n",
    "lcg_rand.random_last = 0\n",
    "\n",
    "trials = 5*10**6\n",
    "pi = calcpi(trials)\n",
    "print(f'Ok:  {trials:8d} trials pi = {pi:.5f} deviation {abs(pi-math.pi):.5f}')\n",
    "\n",
    "lcg_rand.random_last = 1\n",
    "\n",
    "pi = calcpi(trials, 65539, 0, 2**31)\n",
    "print(f'Bad: {trials:8d} trials pi = {pi:.5f} deviation {abs(pi-math.pi):.5f}')"
   ]
  },
  {
   "cell_type": "code",
   "execution_count": null,
   "metadata": {},
   "outputs": [],
   "source": [
    "from mpl_toolkits.mplot3d import Axes3D\n",
    "import matplotlib.pyplot as plt\n",
    "import numpy as np\n",
    "\n",
    "points = 20000\n",
    "\n",
    "v = np.empty((3, points))\n",
    "\n",
    "lcg_rand.random_last = 1\n",
    "for i in range(points) :\n",
    "    for j in range(3) :\n",
    "        v[j][i] = lcg_rand(65539, 0, 2**31)\n",
    "\n",
    "with plt.xkcd():\n",
    "    fig = plt.figure(figsize=(20,16))\n",
    "    ax = fig.add_subplot(111, projection='3d')\n",
    "    ax.view_init(elev=50, azim=-45)\n",
    "    ax.scatter(v[0], v[1], v[2], s=10, zdir='y')\n",
    "    plt.show()"
   ]
  },
  {
   "cell_type": "code",
   "execution_count": null,
   "metadata": {},
   "outputs": [],
   "source": []
  }
 ],
 "metadata": {
  "kernelspec": {
   "display_name": "Python 3",
   "language": "python",
   "name": "python3"
  },
  "language_info": {
   "codemirror_mode": {
    "name": "ipython",
    "version": 3
   },
   "file_extension": ".py",
   "mimetype": "text/x-python",
   "name": "python",
   "nbconvert_exporter": "python",
   "pygments_lexer": "ipython3",
   "version": "3.6.5"
  }
 },
 "nbformat": 4,
 "nbformat_minor": 2
}
