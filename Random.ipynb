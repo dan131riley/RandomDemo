{
 "cells": [
  {
   "cell_type": "code",
   "execution_count": null,
   "metadata": {},
   "outputs": [],
   "source": [
    "import numpy as np\n",
    "import matplotlib.pyplot as plt\n",
    "\n",
    "def drawpi(points = 1000) :\n",
    "    r = 1.0\n",
    "    incircle = 0\n",
    "\n",
    "    x = np.random.random(points)\n",
    "    y = np.random.random(points)\n",
    "    c = np.empty(points)\n",
    "\n",
    "    for i in range(points) :\n",
    "        if x[i]**2 + y[i]**2 <= r**2 :\n",
    "            c[i] = 1.0\n",
    "            incircle += 1\n",
    "        else :\n",
    "            c[i] = 2.0\n",
    "\n",
    "    with plt.xkcd():\n",
    "        plt.figure(figsize=(6,6))\n",
    "        plt.scatter(x, y, c=c, s=10)\n",
    "        plt.show()\n",
    "\n",
    "    return 4*(incircle/points)    "
   ]
  },
  {
   "cell_type": "code",
   "execution_count": null,
   "metadata": {},
   "outputs": [],
   "source": [
    "drawpi()"
   ]
  },
  {
   "cell_type": "code",
   "execution_count": null,
   "metadata": {},
   "outputs": [],
   "source": [
    "class LCG:\n",
    "    def __init__(self, seed = 1, Multiplier = 1366, Addend = 150889, Pmod = 714025):\n",
    "        self.multiplier = Multiplier\n",
    "        self.addend = Addend\n",
    "        self.pmod = Pmod\n",
    "        self.last = seed\n",
    "\n",
    "    def random(self):\n",
    "        self.last = (self.multiplier * self.last + self.addend) % self.pmod\n",
    "        return self.last/self.pmod\n",
    "\n",
    "    def randv(self, size = 1):\n",
    "        v = np.empty(size)\n",
    "        for i in range(size):\n",
    "            v[i] = self.random()\n",
    "\n",
    "        return v\n",
    "\n",
    "    def randint(self, high, size=1):\n",
    "        return (high*self.randv(size)).astype(int)\n",
    "\n",
    "    def setseed(self, seed):\n",
    "        self.last = seed"
   ]
  },
  {
   "cell_type": "code",
   "execution_count": null,
   "metadata": {},
   "outputs": [],
   "source": [
    "lcgdef = LCG()\n",
    "lcgdef.random()"
   ]
  },
  {
   "cell_type": "code",
   "execution_count": null,
   "metadata": {},
   "outputs": [],
   "source": [
    "lcgdef.randint(10, size=10)"
   ]
  },
  {
   "cell_type": "code",
   "execution_count": null,
   "metadata": {},
   "outputs": [],
   "source": [
    "def calcpi(lcg, num_trials = 10000):\n",
    "    r = 1.0\n",
    "    incircle = 0\n",
    "\n",
    "    for i in range(num_trials) :\n",
    "        x = lcg.random()\n",
    "        y = lcg.random()\n",
    "        if x*x + y*y <= r*r :\n",
    "            incircle += 1\n",
    "    \n",
    "    return 4*(incircle/num_trials)    "
   ]
  },
  {
   "cell_type": "code",
   "execution_count": null,
   "metadata": {},
   "outputs": [],
   "source": [
    "calcpi(lcgdef)"
   ]
  },
  {
   "cell_type": "code",
   "execution_count": null,
   "metadata": {},
   "outputs": [],
   "source": [
    "import math\n",
    "\n",
    "lcgdef.setseed(0)\n",
    "\n",
    "for decade in range(8) :\n",
    "    trials = 10**decade\n",
    "    pi = calcpi(lcgdef, trials)\n",
    "    print(f'{trials:8d} trials pi = {pi:.5f} deviation {abs(pi-math.pi):.5f}')"
   ]
  },
  {
   "cell_type": "code",
   "execution_count": null,
   "metadata": {},
   "outputs": [],
   "source": [
    "lcgdef.setseed(0)\n",
    "\n",
    "trials = 5*10**6\n",
    "pi = calcpi(lcgdef, trials)\n",
    "print(f'Ok:  {trials:8d} trials pi = {pi:.5f} deviation {abs(pi-math.pi):.5f}')\n",
    "\n",
    "lcgbad = LCG(seed = 1, Multiplier = 65539, Addend = 0, Pmod = 2**31)\n",
    "\n",
    "pi = calcpi(lcgbad, trials)\n",
    "print(f'Bad: {trials:8d} trials pi = {pi:.5f} deviation {abs(pi-math.pi):.5f}')"
   ]
  },
  {
   "cell_type": "code",
   "execution_count": null,
   "metadata": {},
   "outputs": [],
   "source": [
    "def drawpiLCG(lcg, points = 1000) :\n",
    "    incircle = 0\n",
    "\n",
    "    x = np.empty(points)\n",
    "    y = np.empty(points)\n",
    "    c = np.empty(points)\n",
    "\n",
    "    for i in range(points) :\n",
    "        x[i] = lcg.random()\n",
    "        y[i] = lcg.random()\n",
    "        if x[i]**2 + y[i]**2 <= 1.0 :\n",
    "            c[i] = 1.0\n",
    "            incircle += 1\n",
    "        else :\n",
    "            c[i] = 2.0\n",
    "\n",
    "    with plt.xkcd():\n",
    "        plt.figure(figsize=(6,6))\n",
    "        plt.scatter(x, y, c=c, s=10)\n",
    "        plt.show()\n",
    "\n",
    "    return 4*(incircle/points)    "
   ]
  },
  {
   "cell_type": "code",
   "execution_count": null,
   "metadata": {},
   "outputs": [],
   "source": [
    "drawpiLCG(lcgdef)"
   ]
  },
  {
   "cell_type": "code",
   "execution_count": null,
   "metadata": {},
   "outputs": [],
   "source": [
    "from mpl_toolkits.mplot3d import Axes3D\n",
    "\n",
    "def draw3d(lcg, points = 20000):\n",
    "    v = np.empty((3, points))\n",
    "\n",
    "    for i in range(points) :\n",
    "        for j in range(3) :\n",
    "            v[j][i] = lcg.random()\n",
    "\n",
    "    with plt.xkcd():\n",
    "        fig = plt.figure(figsize=(20,16))\n",
    "        ax = fig.add_subplot(111, projection='3d')\n",
    "        ax.view_init(elev=50, azim=-45)\n",
    "        ax.scatter(v[0], v[1], v[2], s=10, zdir='y')\n",
    "        plt.show()"
   ]
  },
  {
   "cell_type": "code",
   "execution_count": null,
   "metadata": {},
   "outputs": [],
   "source": [
    "draw3d(lcgbad)"
   ]
  },
  {
   "cell_type": "code",
   "execution_count": null,
   "metadata": {},
   "outputs": [],
   "source": []
  }
 ],
 "metadata": {
  "kernelspec": {
   "display_name": "Python 3",
   "language": "python",
   "name": "python3"
  },
  "language_info": {
   "codemirror_mode": {
    "name": "ipython",
    "version": 3
   },
   "file_extension": ".py",
   "mimetype": "text/x-python",
   "name": "python",
   "nbconvert_exporter": "python",
   "pygments_lexer": "ipython3",
   "version": "3.6.5"
  }
 },
 "nbformat": 4,
 "nbformat_minor": 2
}
