{
 "cells": [
  {
   "cell_type": "code",
   "execution_count": null,
   "metadata": {},
   "outputs": [],
   "source": [
    "import numpy as np\n",
    "import matplotlib.pyplot as plt\n",
    "\n",
    "def drawpi(points = 1000) :\n",
    "\n",
    "    # numpy.random.random uses the Mersenne Twister PRNG\n",
    "    xy = np.random.random(2*points)\n",
    "    c = xy[0:2*points:2]**2 + xy[1:2*points:2]**2 <= 1.0\n",
    "    incircle = np.sum(c)\n",
    "\n",
    "    with plt.xkcd():\n",
    "        plt.figure(figsize=(6,6))\n",
    "        plt.scatter(xy[0:2*points:2], xy[1:2*points:2], c=c, s=10)\n",
    "        plt.show()\n",
    "\n",
    "    return 4*(incircle/points)"
   ]
  },
  {
   "cell_type": "code",
   "execution_count": null,
   "metadata": {},
   "outputs": [],
   "source": [
    "drawpi()"
   ]
  },
  {
   "cell_type": "code",
   "execution_count": null,
   "metadata": {},
   "outputs": [],
   "source": [
    "class LCG:\n",
    "    def __init__(self, seed = 1, Multiplier = 1366, Addend = 150889, Pmod = 714025):\n",
    "        \"\"\"Create an LCG instance\"\"\"\n",
    "        self.multiplier = Multiplier\n",
    "        self.addend = Addend\n",
    "        self.pmod = Pmod\n",
    "        self.setseed(seed)\n",
    "\n",
    "    def random(self):\n",
    "        \"\"\"Return a single random number between 0 and 1\"\"\"\n",
    "        self.last = (self.multiplier * self.last + self.addend) % self.pmod\n",
    "        return self.last/self.pmod\n",
    "\n",
    "    def randv(self, size = 1):\n",
    "        \"\"\"Return a vector of random numbers between 0 and 1\"\"\"\n",
    "        v = np.empty(size)\n",
    "        for i in range(size):\n",
    "            v[i] = self.random()\n",
    "        return v\n",
    "\n",
    "    def randint(self, high, size=1):\n",
    "        \"\"\"Return of vector of integers between and the first argument\"\"\"\n",
    "        return (high*self.randv(size)).astype(int)\n",
    "\n",
    "    def setseed(self, seed):\n",
    "        \"\"\"Set the LCG seed\"\"\"\n",
    "        self.last = seed\n",
    "        self.initialseed = seed\n",
    "\n",
    "    def getseed(self):\n",
    "        \"Retrieve the current LCG seed\"\n",
    "        return self.last"
   ]
  },
  {
   "cell_type": "code",
   "execution_count": null,
   "metadata": {},
   "outputs": [],
   "source": [
    "lcgdef = LCG()\n",
    "lcgdef.random()"
   ]
  },
  {
   "cell_type": "code",
   "execution_count": null,
   "metadata": {},
   "outputs": [],
   "source": [
    "lcgdef.randint(10, size=10)"
   ]
  },
  {
   "cell_type": "code",
   "execution_count": null,
   "metadata": {},
   "outputs": [],
   "source": [
    "def calcpi(lcg, num_trials = 10000):\n",
    "    \"\"\"Calculate PI with the given LCG\"\"\"\n",
    "\n",
    "    it = (lcg.random() for i in range(2*num_trials))\n",
    "    xy = np.fromiter(it, float, 2*num_trials)\n",
    "    incircle = np.sum(xy[0:2*num_trials:2]**2 + xy[1:2*num_trials:2]**2 <= 1.0)\n",
    "\n",
    "    return 4*(incircle/num_trials)    "
   ]
  },
  {
   "cell_type": "code",
   "execution_count": null,
   "metadata": {},
   "outputs": [],
   "source": [
    "calcpi(lcgdef)"
   ]
  },
  {
   "cell_type": "code",
   "execution_count": null,
   "metadata": {},
   "outputs": [],
   "source": [
    "import math\n",
    "\n",
    "for decade in range(8) :\n",
    "    lcgdef.setseed(0)\n",
    "    trials = 10**decade\n",
    "    pi = calcpi(lcgdef, trials)\n",
    "    print(f'{trials:8d} trials pi = {pi:.7f} deviation {abs(pi-math.pi):.7f}')"
   ]
  },
  {
   "cell_type": "code",
   "execution_count": null,
   "metadata": {},
   "outputs": [],
   "source": [
    "lcgdef.setseed(0)\n",
    "\n",
    "trials = 3*10**5\n",
    "pi = calcpi(lcgdef, trials)\n",
    "print(f'Default: {trials:8d} trials pi = {pi:.7f} deviation {abs(pi-math.pi):.7f}')\n",
    "\n",
    "# try it with an LCG with known bad parameters\n",
    "lcgbad = LCG(seed = 1, Multiplier = 65539, Addend = 0, Pmod = 2**31)\n",
    "\n",
    "pi = calcpi(lcgbad, trials)\n",
    "print(f'Worse:   {trials:8d} trials pi = {pi:.7f} deviation {abs(pi-math.pi):.7f}')"
   ]
  },
  {
   "cell_type": "code",
   "execution_count": null,
   "metadata": {},
   "outputs": [],
   "source": [
    "def drawpiLCG(lcg, points = 1000) :\n",
    "    it = (lcg.random() for i in range(2*points))\n",
    "    xy = np.fromiter(it, float, 2*points)\n",
    "\n",
    "    c = xy[0:2*points:2]**2 + xy[1:2*points:2]**2 <= 1.0\n",
    "    incircle = np.sum(c)\n",
    "\n",
    "    with plt.xkcd():\n",
    "        plt.figure(figsize=(6,6))\n",
    "        plt.scatter(xy[0:2*points:2], xy[1:2*points:2], c=c, s=10)\n",
    "        plt.show()\n",
    "\n",
    "    return 4*(incircle/points)    "
   ]
  },
  {
   "cell_type": "code",
   "execution_count": null,
   "metadata": {},
   "outputs": [],
   "source": [
    "drawpiLCG(lcgdef)"
   ]
  },
  {
   "cell_type": "code",
   "execution_count": null,
   "metadata": {},
   "outputs": [],
   "source": [
    "# does this look any different?  Hard to tell...\n",
    "drawpiLCG(lcgbad)"
   ]
  },
  {
   "cell_type": "code",
   "execution_count": null,
   "metadata": {},
   "outputs": [],
   "source": [
    "from mpl_toolkits.mplot3d import Axes3D\n",
    "\n",
    "def draw3d(lcg, points = 20000):\n",
    "    \"\"\"Draw a 3d scatterplot of the given LCG; useful for looking for 3-point correlations\"\"\"\n",
    "    it = (lcg.random() for i in range(3*points))\n",
    "    v = np.fromiter(it, float, 3*points)\n",
    "\n",
    "    with plt.xkcd():\n",
    "        fig = plt.figure(figsize=(20,16))\n",
    "        ax = fig.add_subplot(111, projection='3d')\n",
    "        ax.view_init(elev=50, azim=-45)\n",
    "        ax.scatter(v[0:3*points:3], v[1:3*points:3], v[2:3*points:3], s=10, zdir='y')\n",
    "        plt.show()"
   ]
  },
  {
   "cell_type": "code",
   "execution_count": null,
   "metadata": {},
   "outputs": [],
   "source": [
    "# how about 3-point correlations?\n",
    "draw3d(lcgdef)"
   ]
  },
  {
   "cell_type": "code",
   "execution_count": null,
   "metadata": {},
   "outputs": [],
   "source": [
    "# does this look any different?\n",
    "draw3d(lcgbad)"
   ]
  },
  {
   "cell_type": "code",
   "execution_count": null,
   "metadata": {},
   "outputs": [],
   "source": []
  }
 ],
 "metadata": {
  "kernelspec": {
   "display_name": "Python 3",
   "language": "python",
   "name": "python3"
  },
  "language_info": {
   "codemirror_mode": {
    "name": "ipython",
    "version": 3
   },
   "file_extension": ".py",
   "mimetype": "text/x-python",
   "name": "python",
   "nbconvert_exporter": "python",
   "pygments_lexer": "ipython3",
   "version": "3.7.4"
  }
 },
 "nbformat": 4,
 "nbformat_minor": 4
}
